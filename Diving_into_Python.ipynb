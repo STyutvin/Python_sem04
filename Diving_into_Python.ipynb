{
  "cells": [
    {
      "cell_type": "markdown",
      "metadata": {
        "id": "NaLBbe3VISY8"
      },
      "source": [
        "# Погружение в Python"
      ]
    },
    {
      "cell_type": "markdown",
      "metadata": {
        "id": "41OYVyN_rSO8"
      },
      "source": [
        "\n",
        "\n",
        "---\n",
        "\n"
      ]
    },
    {
      "cell_type": "markdown",
      "metadata": {
        "id": "8JTOvEEOrLwN"
      },
      "source": [
        "## Семинар 04"
      ]
    },
    {
      "cell_type": "markdown",
      "metadata": {
        "id": "jQuUEoK-rRLv"
      },
      "source": [
        "**Задание 1.**<br>\n",
        "Напишите функцию для транспонирования матрицы."
      ]
    },
    {
      "cell_type": "code",
      "execution_count": 1,
      "metadata": {
        "colab": {
          "base_uri": "https://localhost:8080/"
        },
        "id": "majxxx2erhVG",
        "outputId": "ad6f112b-cd04-4d2a-fc09-89dd46673c1f"
      },
      "outputs": [
        {
          "name": "stdout",
          "output_type": "stream",
          "text": [
            "Исходная матрица:\n",
            "[[1, 2, 3], [4, 5, 6], [7, 8, 9]]\n",
            "\n",
            "Транспонированная матрица:\n",
            "[[1, 4, 7], [2, 5, 8], [3, 6, 9]]\n"
          ]
        }
      ],
      "source": [
        "def matrix_transposition(matrix):\n",
        "  for i in range(len(matrix)):\n",
        "    for j in range(len(matrix[0])):\n",
        "      result[j][i] = matrix[i][j]\n",
        "  return result\n",
        "\n",
        "matrix = [[1,2,3], [4,5,6], [7,8,9]]\n",
        "result = [[0,0,0], [0,0,0], [0,0,0]]\n",
        "print(f'Исходная матрица:\\n{matrix}\\n')\n",
        "print(f'Транспонированная матрица:\\n{matrix_transposition(matrix)}')"
      ]
    },
    {
      "cell_type": "markdown",
      "metadata": {
        "id": "AXEXou3GuUFJ"
      },
      "source": [
        "*Однако мне не совсем нравится такой метод. Так как приходится вводить не только исходную матрицу, но и в соответствии ей пустую, куда записывается результат (другого решения я не придумал). Поэтому, считаю, что лучший выход - не изобретать велосипед, а воспользоваться встроенной функцией из numpy.*"
      ]
    },
    {
      "cell_type": "code",
      "execution_count": 2,
      "metadata": {
        "colab": {
          "base_uri": "https://localhost:8080/"
        },
        "id": "59y6ChdAvNv8",
        "outputId": "cbc42cdb-d84c-427a-b7f2-a09e9221b82a"
      },
      "outputs": [
        {
          "name": "stdout",
          "output_type": "stream",
          "text": [
            "Исходная матрица:\n",
            "[[1 2 3]\n",
            " [4 5 6]\n",
            " [7 8 9]]\n",
            "\n",
            "Транспонированная матрица:\n",
            "[[1 4 7]\n",
            " [2 5 8]\n",
            " [3 6 9]]\n"
          ]
        }
      ],
      "source": [
        "import numpy as np\n",
        "\n",
        "\n",
        "def m_transpos(matrix):\n",
        "  \"\"\"Just matrix transpose and nothing else.\"\"\"\n",
        "  res = np.array(matrix)\n",
        "  return np.transpose(res)\n",
        "\n",
        "\n",
        "matrix = [[1,2,3], [4,5,6], [7,8,9]]\n",
        "print(f'Исходная матрица:\\n{np.array(matrix)}\\n')\n",
        "print(f'Транспонированная матрица:\\n{m_transpos(matrix)}')\n"
      ]
    },
    {
      "cell_type": "markdown",
      "metadata": {
        "id": "Aq_93qGG11C9"
      },
      "source": [
        "\n",
        "\n",
        "---\n",
        "\n"
      ]
    },
    {
      "cell_type": "markdown",
      "metadata": {
        "id": "GB4Sz9eV12tN"
      },
      "source": [
        "**Задание 2.**<br>\n",
        "Напишите функцию, принимающую на вход только ключевые параметры и возвращающую словарь, где ключ — значение переданного аргумента, а значение — имя аргумента. Если ключ не хешируем, используйте его строковое представление."
      ]
    },
    {
      "cell_type": "code",
      "execution_count": 3,
      "metadata": {
        "colab": {
          "base_uri": "https://localhost:8080/"
        },
        "id": "ghVPdc3K5UXA",
        "outputId": "2a6e25b7-c618-44d3-b895-29d4c6b9288d"
      },
      "outputs": [
        {
          "data": {
            "text/plain": [
              "{1: 'х', 2: 'y'}"
            ]
          },
          "execution_count": 3,
          "metadata": {},
          "output_type": "execute_result"
        }
      ],
      "source": [
        "def some_func(**kwargs):\n",
        "  dict = {}\n",
        "  for key, value in kwargs.items():\n",
        "    dict[value] = key\n",
        "  return dict\n",
        "\n",
        "\n",
        "some_func(х=1, y=2)"
      ]
    },
    {
      "cell_type": "markdown",
      "metadata": {
        "id": "3nC-50nFgtI_"
      },
      "source": [
        "\n",
        "\n",
        "---\n",
        "\n"
      ]
    },
    {
      "cell_type": "markdown",
      "metadata": {
        "id": "qk6Lr5XBguiG"
      },
      "source": [
        "**Задание 3.**<br>\n",
        "Возьмите задачу о банкомате из семинара 2. Разбейте её на отдельные операции — функции. Дополнительно сохраняйте все операции поступления и снятия средств в список."
      ]
    },
    {
      "cell_type": "markdown",
      "metadata": {
        "id": "EYvax5DYJTHU"
      },
      "source": [
        "***Комментарий к условию.*** *Если список планируется использовать наподобие log-файла, то возможно операции поступления и снятия лучше записывать в словарь - будет нагляднее и практичнее, как мне кажется. Поэтому сделал все же словарь, а не список. Но если что - могу переделать на список.*"
      ]
    },
    {
      "cell_type": "markdown",
      "metadata": {
        "id": "uQoPupYNuvOD"
      },
      "source": [
        "**Условие задачи.** Напишите программу банкомат. Начальная сумма равна 0. Допустимые действия: пополнить, снять, выйти. Сумма пополнения и снятия кратны 50 у.е. Процент за снятие 1,5% от суммы снятия, но не менее 30 и не более 600у.е. После каждой третьей операции пополнения или снятия насичляются проценты 3%. Нельзя снять больше, чем на счете. При привышении суммы в 5 млн. вычитать налог на богатство 10% перед каждой операцией, даже ошибочной. Любое действие выводит сумму денег."
      ]
    },
    {
      "cell_type": "code",
      "execution_count": 4,
      "metadata": {
        "colab": {
          "base_uri": "https://localhost:8080/"
        },
        "id": "6c29cI_jFGdo",
        "outputId": "eaec6d77-37c4-4576-f2d8-7e5cbf67546f"
      },
      "outputs": [
        {
          "name": "stdout",
          "output_type": "stream",
          "text": [
            "Список доступных операций:\n",
            "1. Внести наличные.\n",
            "2. Снять наличные.\n",
            "3. Выход.\n"
          ]
        },
        {
          "name": "stdout",
          "output_type": "stream",
          "text": [
            "\n",
            "Сумма на счете: 500\n",
            "\n",
            "Список доступных операций:\n",
            "1. Внести наличные.\n",
            "2. Снять наличные.\n",
            "3. Выход.\n",
            "\n",
            "Сумма на счете: 500\n",
            "До свидания!\n"
          ]
        }
      ],
      "source": [
        "def put_money(money: int):\n",
        "  while True:\n",
        "    global money_to_put\n",
        "    money_to_put = int(input('\\nКакую сумму Вы хотите внести? (Сумма должна быть кратна 50.): '))\n",
        "    if money_to_put % 50 != 0:\n",
        "      print('Сумма должна быть кратна 50. Пожалуйста, повторите ввод.')\n",
        "    else:\n",
        "      break\n",
        "  money += money_to_put\n",
        "  return money\n",
        "\n",
        "\n",
        "def withdraw_money(money: int):\n",
        "  while True:\n",
        "    global amount_to_take\n",
        "    amount_to_take = int(input('Какую сумму Вы хотите снять? (Сумма должна быть кратна 50.): '))\n",
        "    percent = amount_to_take * 0.015\n",
        "    if percent < 30:\n",
        "      money_with_procent = amount_to_take + 30\n",
        "    elif percent > 600:\n",
        "      money_with_procent = amount_to_take + 600\n",
        "    else:\n",
        "      money_with_procent = amount_to_take + percent\n",
        "\n",
        "    if amount_to_take % 50 != 0:\n",
        "      print('Сумма должна быть кратна 50. Пожалуйста, повторите ввод.')\n",
        "    elif money_with_procent > money:\n",
        "      print('Недостаточно средств на счете. Введите меньшую сумму. ')\n",
        "    else:\n",
        "      break\n",
        "  money -= money_with_procent\n",
        "  return money\n",
        "\n",
        "\n",
        "def wealth_tax(money: int):\n",
        "  if money > 5_000_000:\n",
        "    money *= 0.9\n",
        "  return money\n",
        "\n",
        "\n",
        "def check_count(count: int, money: int):\n",
        "  count += 1\n",
        "  if count == 3:\n",
        "    money *= 1.03\n",
        "    count = 0\n",
        "  return count, money\n",
        "\n",
        "\n",
        "def main():\n",
        "  money = 0\n",
        "  count = 0\n",
        "  count_list_put = 1\n",
        "  count_list_take = 1\n",
        "  log_list = {}\n",
        "  while True:\n",
        "    print('Список доступных операций:')\n",
        "    print('1. Внести наличные.')\n",
        "    print('2. Снять наличные.')\n",
        "    print('3. Выход.')\n",
        "    while True:\n",
        "      user_choice = int(input('\\nВыберите номер операции: '))\n",
        "      if user_choice not in [1, 2, 3]:\n",
        "        print('\\nНомер операции указан неверно. Введите номер еще раз.')\n",
        "        money = wealth_tax(money)\n",
        "        print(f'\\nСумма на счете: {money}')\n",
        "      else:\n",
        "        break\n",
        "    match user_choice:\n",
        "      case 1:\n",
        "        money = put_money(money)\n",
        "        money = wealth_tax(money)\n",
        "        count, money = check_count(count, money)\n",
        "        log_list[f'Пополнение средств №{count_list_put}'] = money_to_put\n",
        "        count_list_put += 1\n",
        "        print(f'\\nСумма на счете: {money}\\n')\n",
        "      case 2:\n",
        "        if money == 0:\n",
        "          print(f'\\nСумма на счете: {money}')\n",
        "          print('Необходимо пополнить счет.\\n')\n",
        "        else:\n",
        "          money = wealth_tax(money)\n",
        "          money = withdraw_money(money)\n",
        "          count, money = check_count(count, money)\n",
        "          log_list[f'Снятие средств №{count_list_take}'] = amount_to_take\n",
        "          count_list_take += 1\n",
        "          print(f'\\nСумма на счете: {money}\\n')\n",
        "      case 3:\n",
        "        log_query = input('\\nВывести на экран историю операций по внесению и списанию средств (да/нет)?: ')\n",
        "        if log_query == 'да' or log_query == 'Да':\n",
        "          if log_list == {}:\n",
        "            print('\\nВы не произвели никаких действий со счетом.')\n",
        "          else:\n",
        "            print(f'\\nПроизведенные операци со счетом:\\n{log_list}')\n",
        "        print(f'\\nСумма на счете: {money}')\n",
        "        print('До свидания!')\n",
        "        return\n",
        "\n",
        "\n",
        "if __name__ == '__main__':\n",
        "  main()"
      ]
    }
  ],
  "metadata": {
    "colab": {
      "collapsed_sections": [
        "d_fEhlcxXsHv",
        "pRzyBs4Gbdvm",
        "vsdrvQ4Mavnk"
      ],
      "provenance": []
    },
    "kernelspec": {
      "display_name": "Python 3",
      "name": "python3"
    },
    "language_info": {
      "codemirror_mode": {
        "name": "ipython",
        "version": 3
      },
      "file_extension": ".py",
      "mimetype": "text/x-python",
      "name": "python",
      "nbconvert_exporter": "python",
      "pygments_lexer": "ipython3",
      "version": "3.10.11"
    }
  },
  "nbformat": 4,
  "nbformat_minor": 0
}
